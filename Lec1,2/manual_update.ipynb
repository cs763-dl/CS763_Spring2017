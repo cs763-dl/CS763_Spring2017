{
 "cells": [
  {
   "cell_type": "code",
   "execution_count": 1,
   "metadata": {
    "collapsed": false,
    "deletable": true,
    "editable": true
   },
   "outputs": [],
   "source": [
    "require 'nn';                                                  \n",
    "model = nn.Linear(3,2)\n",
    "x = torch.rand(3)\n",
    "y = torch.Tensor({1})"
   ]
  },
  {
   "cell_type": "code",
   "execution_count": 2,
   "metadata": {
    "collapsed": false,
    "deletable": true,
    "editable": true
   },
   "outputs": [
    {
     "data": {
      "text/plain": [
       " 0.8203\n",
       " 0.8481\n",
       " 0.0196\n",
       "[torch.DoubleTensor of size 3]\n",
       "\n",
       "-0.4597\n",
       "-0.2822\n",
       "[torch.DoubleTensor of size 2]\n",
       "\n",
       " 1\n",
       "[torch.DoubleTensor of size 1]\n",
       "\n"
      ]
     },
     "execution_count": 2,
     "metadata": {},
     "output_type": "execute_result"
    }
   ],
   "source": [
    "op = model:forward(x)\n",
    "print(x)\n",
    "print(op)\n",
    "print(y)"
   ]
  },
  {
   "cell_type": "code",
   "execution_count": 3,
   "metadata": {
    "collapsed": false,
    "deletable": true,
    "editable": true
   },
   "outputs": [
    {
     "data": {
      "text/plain": [
       "0.78581595010034\t\n"
      ]
     },
     "execution_count": 3,
     "metadata": {},
     "output_type": "execute_result"
    }
   ],
   "source": [
    "criterion = nn.CrossEntropyCriterion()\n",
    "e1 = criterion:forward(op, y)\n",
    "print(e1)"
   ]
  },
  {
   "cell_type": "code",
   "execution_count": 4,
   "metadata": {
    "collapsed": false,
    "deletable": true,
    "editable": true
   },
   "outputs": [
    {
     "data": {
      "text/plain": [
       "-0.44647513932627\t\n"
      ]
     },
     "execution_count": 4,
     "metadata": {},
     "output_type": "execute_result"
    }
   ],
   "source": [
    "model.weight[1][1] = model.weight[1][1] + 0.00001\n",
    "e2 = criterion:forward(model:forward(x), y)\n",
    "print((e2 - e1)/0.00001)"
   ]
  },
  {
   "cell_type": "code",
   "execution_count": 5,
   "metadata": {
    "collapsed": false,
    "deletable": true,
    "editable": true
   },
   "outputs": [
    {
     "data": {
      "text/plain": [
       "-0.4615623114157\t\n"
      ]
     },
     "execution_count": 5,
     "metadata": {},
     "output_type": "execute_result"
    }
   ],
   "source": [
    "model.weight[1][1] = model.weight[1][1] - 0.00001\n",
    "model.weight[1][2] = model.weight[1][2] + 0.00001\n",
    "e3 = criterion:forward(model:forward(x), y)\n",
    "print((e3 - e1)/0.00001)"
   ]
  },
  {
   "cell_type": "code",
   "execution_count": 8,
   "metadata": {
    "collapsed": false,
    "deletable": true,
    "editable": true
   },
   "outputs": [
    {
     "data": {
      "text/plain": [
       "-0.010684553064522\t\n"
      ]
     },
     "execution_count": 8,
     "metadata": {},
     "output_type": "execute_result"
    }
   ],
   "source": [
    "model.weight[1][2] = model.weight[1][2] - 0.00001\n",
    "model.weight[1][3] = model.weight[1][3] + 0.00001\n",
    "e4 = criterion:forward(model:forward(x), y)\n",
    "print((e4 - e1)/0.00001)"
   ]
  },
  {
   "cell_type": "code",
   "execution_count": 7,
   "metadata": {
    "collapsed": false,
    "deletable": true,
    "editable": true
   },
   "outputs": [
    {
     "data": {
      "text/plain": [
       "-0.4465 -0.4616 -0.0107\n",
       " 0.4465  0.4616  0.0107\n",
       "[torch.DoubleTensor of size 2x3]\n",
       "\n"
      ]
     },
     "execution_count": 7,
     "metadata": {},
     "output_type": "execute_result"
    }
   ],
   "source": [
    "model.weight[1][3] = model.weight[1][3] - 0.00001\n",
    "df_do = criterion:backward(model:forward(x),y)\n",
    "model:backward(x, df_do)\n",
    "print(model.gradWeight)"
   ]
  }
 ],
 "metadata": {
  "kernelspec": {
   "display_name": "iTorch",
   "language": "lua",
   "name": "itorch"
  },
  "language_info": {
   "name": "lua",
   "version": "5.1"
  }
 },
 "nbformat": 4,
 "nbformat_minor": 2
}
