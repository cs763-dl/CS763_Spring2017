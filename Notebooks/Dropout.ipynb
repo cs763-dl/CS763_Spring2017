{
 "cells": [
  {
   "cell_type": "markdown",
   "metadata": {
    "deletable": true,
    "editable": true
   },
   "source": [
    "# Dropout Layer\n",
    "In this notebook, we will look into the the dropout layer.\n",
    "Consider a standard 3 layered network as shown bellow in (a):\n",
    "<img src=\"https://raw.githubusercontent.com/stencilman/CS763_Spring2017/master/Lec3%2C4/dropout_base_network.png\" style=\"width:400px;\"/>\n",
    "During training with dropout, as shown bellow in code snippet, we randomly set some neurons to zero in the <b> forward pass</b>. The network with dropout on can be seen in (b)."
   ]
  },
  {
   "cell_type": "code",
   "execution_count": 20,
   "metadata": {
    "collapsed": false,
    "deletable": true,
    "editable": true
   },
   "outputs": [
    {
     "data": {
      "text/plain": [
       "Hidden Layer 1 output before dropout:\t\n",
       " 0.2164\n",
       " 0.0931\n",
       "-0.3029\n",
       "-0.6296\n",
       " 0.3302\n",
       "[torch.DoubleTensor of size 5]\n",
       "\n",
       "Dropout Mask:\t\n",
       " 1\n",
       " 1\n",
       " 1\n",
       " 1\n",
       " 0\n",
       "[torch.DoubleTensor of size 5]\n",
       "\n",
       "Hidden Layer 1 output after dropout\t\n",
       " 0.2164\n",
       " 0.0931\n",
       "-0.3029\n",
       "-0.6296\n",
       " 0.0000\n",
       "[torch.DoubleTensor of size 5]\n",
       "\n",
       "-----------------------------------\t\n",
       "Hidden Layer 2 output before dropout\t\n",
       " 0.1721\n",
       " 0.0472\n",
       " 0.1428\n",
       " 0.1557\n",
       " 0.0723\n",
       "[torch.DoubleTensor of size 5]\n",
       "\n",
       "Dropout Mask:\t\n",
       " 1\n",
       " 1\n",
       " 0\n",
       " 0\n",
       " 1\n",
       "[torch.DoubleTensor of size 5]\n",
       "\n",
       "Hidden Layer 2 output after dropout\t\n",
       " 0.1721\n",
       " 0.0472\n",
       " 0.0000\n",
       " 0.0000\n",
       " 0.0723\n",
       "[torch.DoubleTensor of size 5]\n",
       "\n",
       "-----------------------------------\t\n",
       "Hidden Layer 3 output before dropout\t\n",
       "-0.3645\n",
       "-0.1621\n",
       "-0.0378\n",
       "-0.0005\n",
       "-0.1822\n",
       "[torch.DoubleTensor of size 5]\n",
       "\n",
       "Dropout Mask:\t\n",
       " 0\n",
       " 0\n",
       " 0\n",
       " 1\n",
       " 1\n",
       "[torch.DoubleTensor of size 5]\n",
       "\n",
       "Hidden Layer 2 output after dropout\t\n",
       "-0.0000\n",
       "-0.0000\n",
       "-0.0000\n",
       "-0.0005\n",
       "-0.1822\n",
       "[torch.DoubleTensor of size 5]\n",
       "\n",
       "-----------------------------------\t\n"
      ]
     },
     "execution_count": 20,
     "metadata": {},
     "output_type": "execute_result"
    }
   ],
   "source": [
    "require 'nn';\n",
    "p = 0.5\n",
    "x = torch.rand(5)\n",
    "L1 = nn.Linear(5, 5)\n",
    "L2 = nn.Linear(5, 5)\n",
    "L3 = nn.Linear(5, 5)\n",
    "L4 = nn.Linear(5, 1)\n",
    "\n",
    "\n",
    "H1 = L1:forward(x)\n",
    "print('Hidden Layer 1 output before dropout:')\n",
    "print(H1)\n",
    "U1 = torch.rand(H1:size(1)):gt(p):double()\n",
    "print('Dropout Mask:')\n",
    "print(U1)\n",
    "H1 = H1:cmul(U1)\n",
    "print('Hidden Layer 1 output after dropout')\n",
    "print(H1)\n",
    "print('-----------------------------------')\n",
    "\n",
    "H2 = L2:forward(H1)\n",
    "print('Hidden Layer 2 output before dropout')\n",
    "print(H2)\n",
    "U2 = torch.rand(H2:size(1)):gt(p):double()\n",
    "print('Dropout Mask:')\n",
    "print(U2)\n",
    "H2 = H2:cmul(U2)\n",
    "print('Hidden Layer 2 output after dropout')\n",
    "print(H2)\n",
    "print('-----------------------------------')\n",
    "\n",
    "H3 = L3:forward(H2)\n",
    "print('Hidden Layer 3 output before dropout')\n",
    "print(H3)\n",
    "U3 = torch.rand(H3:size(1)):gt(p):double()\n",
    "print('Dropout Mask:')\n",
    "print(U3)\n",
    "H2 = H3:cmul(U3)\n",
    "print('Hidden Layer 2 output after dropout')\n",
    "print(H3)\n",
    "print('-----------------------------------')\n",
    "\n",
    "out = L4:forward(H3)"
   ]
  },
  {
   "cell_type": "markdown",
   "metadata": {
    "deletable": true,
    "editable": true
   },
   "source": [
    "However, we must componsate for the dropout, such as the total magnitude of the activations are same both in the trining and the test phase. This can be done by scaling the activations down during the forward pass at the test time."
   ]
  },
  {
   "cell_type": "code",
   "execution_count": 21,
   "metadata": {
    "collapsed": true,
    "deletable": true,
    "editable": true
   },
   "outputs": [],
   "source": [
    "require 'nn';\n",
    "p = 0.5\n",
    "x = torch.rand(5)\n",
    "L1 = nn.Linear(5, 5)\n",
    "L2 = nn.Linear(5, 5)\n",
    "L3 = nn.Linear(5, 5)\n",
    "L4 = nn.Linear(5, 1)\n",
    "\n",
    "function forward_train(x)\n",
    "    H1 = L1:forward(x)\n",
    "    U1 = torch.rand(H1:size(1)):gt(p):double()\n",
    "    H1 = H1:cmul(U1)\n",
    "\n",
    "    H2 = L2:forward(H1)\n",
    "    U2 = torch.rand(H2:size(1)):gt(p):double()\n",
    "    H2 = H2:cmul(U2)\n",
    "\n",
    "    H3 = L3:forward(H2)\n",
    "    U3 = torch.rand(H3:size(1)):gt(p):double()\n",
    "    H2 = H3:cmul(U3)\n",
    "\n",
    "    out = L4:forward(H3)\n",
    "    return out\n",
    "end\n",
    "\n",
    "function forward_test(x)\n",
    "    H1 = L1:forward(x) * p\n",
    "    H2 = L2:forward(H1) * p\n",
    "    H3 = L3:forward(H2) * p\n",
    "    out = L4:forward(H3)\n",
    "    return out\n",
    "end"
   ]
  },
  {
   "cell_type": "markdown",
   "metadata": {
    "deletable": true,
    "editable": true
   },
   "source": [
    "Alternatively, we can scale the activations up at training time, and thus the test time code remains untouched."
   ]
  },
  {
   "cell_type": "code",
   "execution_count": null,
   "metadata": {
    "collapsed": true,
    "deletable": true,
    "editable": true
   },
   "outputs": [],
   "source": [
    "function forward_train(x)\n",
    "    H1 = L1:forward(x)\n",
    "    U1 = torch.rand(H1:size(1)):gt(p):double()\n",
    "    H1 = H1:cmul(U1) / p\n",
    "\n",
    "    H2 = L2:forward(H1)\n",
    "    U2 = torch.rand(H2:size(1)):gt(p):double()\n",
    "    H2 = H2:cmul(U2) / p\n",
    "\n",
    "    H3 = L3:forward(H2)\n",
    "    U3 = torch.rand(H3:size(1)):gt(p):double()\n",
    "    H2 = H3:cmul(U3) / p\n",
    "\n",
    "    out = L4:forward(H3)\n",
    "    return out\n",
    "end\n",
    "\n",
    "function forward_test(x)\n",
    "    H1 = L1:forward(x) \n",
    "    H2 = L2:forward(H1) \n",
    "    H3 = L3:forward(H2) \n",
    "    out = L4:forward(H3)\n",
    "    return out\n",
    "end"
   ]
  }
 ],
 "metadata": {
  "kernelspec": {
   "display_name": "iTorch",
   "language": "lua",
   "name": "itorch"
  },
  "language_info": {
   "name": "lua",
   "version": "5.1"
  }
 },
 "nbformat": 4,
 "nbformat_minor": 2
}
