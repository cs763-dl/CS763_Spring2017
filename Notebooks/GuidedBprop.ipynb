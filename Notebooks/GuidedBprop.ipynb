{
 "cells": [
  {
   "cell_type": "code",
   "execution_count": 1,
   "metadata": {
    "collapsed": false
   },
   "outputs": [],
   "source": [
    "require 'nn';\n",
    "if nn.GuidedReLU ~= nil then\n",
    "  return\n",
    "end\n",
    "\n",
    "local GuidedReLU, parent = torch.class('nn.GuidedReLU', 'nn.Module')\n",
    "\n",
    "function GuidedReLU:__init()\n",
    "   parent.__init(self)\n",
    "   self.relu = nn.ReLU()\n",
    "end\n",
    "\n",
    "function GuidedReLU:updateOutput(input)\n",
    "  self.output = self.relu:forward(input)\n",
    "  return self.output\n",
    "end\n",
    "\n",
    "function GuidedReLU:updateGradInput(input, gradOutput)\n",
    "  self.gradInput = self.relu:backward(input, gradOutput)\n",
    "  local positive_mask = gradOutput:gt(0):double()\n",
    "  self.gradInput = self.gradInput:cmul(positive_mask):cmul(gradOutput)\n",
    "  return self.gradInput\n",
    "end"
   ]
  },
  {
   "cell_type": "code",
   "execution_count": 2,
   "metadata": {
    "collapsed": false
   },
   "outputs": [
    {
     "data": {
      "text/plain": [
       " 0.0444  0.2231  0.2875\n",
       "-0.2768 -0.4780 -0.1057\n",
       "-0.0444 -0.1649  0.3252\n",
       "[torch.DoubleTensor of size 3x3]\n",
       "\n"
      ]
     },
     "execution_count": 2,
     "metadata": {},
     "output_type": "execute_result"
    }
   ],
   "source": [
    "input = torch.rand(3,3)-0.5\n",
    "print(input)"
   ]
  },
  {
   "cell_type": "code",
   "execution_count": 3,
   "metadata": {
    "collapsed": false
   },
   "outputs": [
    {
     "data": {
      "text/plain": [
       " 0.0444  0.2231  0.2875\n",
       " 0.0000  0.0000  0.0000\n",
       " 0.0000  0.0000  0.3252\n",
       "[torch.DoubleTensor of size 3x3]\n",
       "\n"
      ]
     },
     "execution_count": 3,
     "metadata": {},
     "output_type": "execute_result"
    }
   ],
   "source": [
    "print(nn.ReLU():forward(input))"
   ]
  },
  {
   "cell_type": "code",
   "execution_count": 4,
   "metadata": {
    "collapsed": false
   },
   "outputs": [
    {
     "data": {
      "text/plain": [
       " 0.0444  0.2231  0.2875\n",
       " 0.0000  0.0000  0.0000\n",
       " 0.0000  0.0000  0.3252\n",
       "[torch.DoubleTensor of size 3x3]\n",
       "\n"
      ]
     },
     "execution_count": 4,
     "metadata": {},
     "output_type": "execute_result"
    }
   ],
   "source": [
    "print(nn.GuidedReLU():forward(input))"
   ]
  },
  {
   "cell_type": "code",
   "execution_count": 5,
   "metadata": {
    "collapsed": false
   },
   "outputs": [
    {
     "data": {
      "text/plain": [
       "-0.0255  0.3835 -0.1734\n",
       "-0.3290  0.1518 -0.3441\n",
       " 0.4581 -0.2933  0.1737\n",
       "[torch.DoubleTensor of size 3x3]\n",
       "\n"
      ]
     },
     "execution_count": 5,
     "metadata": {},
     "output_type": "execute_result"
    }
   ],
   "source": [
    "nextgrad = torch.rand(3,3)-0.5\n",
    "print(nextgrad)"
   ]
  },
  {
   "cell_type": "code",
   "execution_count": 6,
   "metadata": {
    "collapsed": false
   },
   "outputs": [
    {
     "data": {
      "text/plain": [
       "-0.0255  0.3835 -0.1734\n",
       " 0.0000  0.0000  0.0000\n",
       " 0.0000  0.0000  0.1737\n",
       "[torch.DoubleTensor of size 3x3]\n",
       "\n"
      ]
     },
     "execution_count": 6,
     "metadata": {},
     "output_type": "execute_result"
    }
   ],
   "source": [
    "print(nn.ReLU():backward(input, nextgrad))"
   ]
  },
  {
   "cell_type": "code",
   "execution_count": 7,
   "metadata": {
    "collapsed": false
   },
   "outputs": [
    {
     "data": {
      "text/plain": [
       " 0.0000  0.1471  0.0000\n",
       "-0.0000  0.0000 -0.0000\n",
       " 0.0000 -0.0000  0.0302\n",
       "[torch.DoubleTensor of size 3x3]\n",
       "\n"
      ]
     },
     "execution_count": 7,
     "metadata": {},
     "output_type": "execute_result"
    }
   ],
   "source": [
    "print(nn.GuidedReLU():backward(input, nextgrad))"
   ]
  }
 ],
 "metadata": {
  "kernelspec": {
   "display_name": "iTorch",
   "language": "lua",
   "name": "itorch"
  },
  "language_info": {
   "name": "lua",
   "version": "5.1"
  }
 },
 "nbformat": 4,
 "nbformat_minor": 2
}
