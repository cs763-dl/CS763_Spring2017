{
 "cells": [
  {
   "cell_type": "code",
   "execution_count": 1,
   "metadata": {
    "collapsed": false
   },
   "outputs": [],
   "source": [
    "require 'nn';\n",
    "n = torch.Tensor({{{0.2692, 0.4190, 0.2095, 0.9163},\n",
    "                   {0.2778, 0.9199, 0.5555, 0.1638},\n",
    "                   {0.6936, 0.2328, 0.0553, 0.1798},\n",
    "                   {0.3611, 0.3225, 0.9032, 0.5106}}})"
   ]
  },
  {
   "cell_type": "code",
   "execution_count": 2,
   "metadata": {
    "collapsed": false
   },
   "outputs": [
    {
     "data": {
      "text/plain": [
       "(1,.,.) = \n",
       "  0.2692  0.4190  0.2095  0.9163\n",
       "  0.2778  0.9199  0.5555  0.1638\n",
       "  0.6936  0.2328  0.0553  0.1798\n",
       "  0.3611  0.3225  0.9032  0.5106\n",
       "[torch.DoubleTensor of size 1x4x4]\n",
       "\n"
      ]
     },
     "execution_count": 2,
     "metadata": {},
     "output_type": "execute_result"
    }
   ],
   "source": [
    "print(n)"
   ]
  },
  {
   "cell_type": "code",
   "execution_count": 3,
   "metadata": {
    "collapsed": false
   },
   "outputs": [
    {
     "data": {
      "text/plain": [
       "(1,.,.) = \n",
       "  0.9199  0.9163\n",
       "  0.6936  0.9032\n",
       "[torch.DoubleTensor of size 1x2x2]\n",
       "\n"
      ]
     },
     "execution_count": 3,
     "metadata": {},
     "output_type": "execute_result"
    }
   ],
   "source": [
    "pool = nn.SpatialMaxPooling(2, 2)\n",
    "m = pool:forward(n)\n",
    "print(m)"
   ]
  },
  {
   "cell_type": "code",
   "execution_count": 4,
   "metadata": {
    "collapsed": false
   },
   "outputs": [
    {
     "data": {
      "text/plain": [
       "(1,.,.) = \n",
       "  0  0  0  1\n",
       "  0  1  0  0\n",
       "  1  0  0  0\n",
       "  0  0  1  0\n",
       "[torch.DoubleTensor of size 1x4x4]\n",
       "\n"
      ]
     },
     "execution_count": 4,
     "metadata": {},
     "output_type": "execute_result"
    }
   ],
   "source": [
    "nextgrad = torch.ones(1,2,2)\n",
    "pool:backward(n, nextgrad)\n",
    "print(pool.gradInput)"
   ]
  }
 ],
 "metadata": {
  "kernelspec": {
   "display_name": "iTorch",
   "language": "lua",
   "name": "itorch"
  },
  "language_info": {
   "name": "lua",
   "version": "5.1"
  }
 },
 "nbformat": 4,
 "nbformat_minor": 2
}
