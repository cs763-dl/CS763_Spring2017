{
 "cells": [
  {
   "cell_type": "markdown",
   "metadata": {},
   "source": [
    "# Rectified Linear (ReLU) Layer\n",
    "In this notebook, we will look into the forward and the backward the the ```nn.ReLU``` layer. We will also see how to compute the gradient of the output respect to the input $\\frac{\\partial O}{\\partial I}$."
   ]
  },
  {
   "cell_type": "markdown",
   "metadata": {
    "deletable": true,
    "editable": true
   },
   "source": [
    "#### Input\n",
    "```torch.rand``` gives us random numbers unformly in the range  $[0, 1]$. We subtract 0.5 to bring it to the range $[-0.5, 0.5]$"
   ]
  },
  {
   "cell_type": "code",
   "execution_count": 1,
   "metadata": {
    "collapsed": false,
    "deletable": true,
    "editable": true
   },
   "outputs": [
    {
     "data": {
      "text/plain": [
       " 0.0748\n",
       "-0.1998\n",
       " 0.4638\n",
       " 0.0800\n",
       "-0.4848\n",
       "[torch.DoubleTensor of size 5]\n",
       "\n"
      ]
     },
     "execution_count": 1,
     "metadata": {},
     "output_type": "execute_result"
    }
   ],
   "source": [
    "n = torch.rand(5) - 0.5 \n",
    "print(n)"
   ]
  },
  {
   "cell_type": "markdown",
   "metadata": {
    "deletable": true,
    "editable": true
   },
   "source": [
    "#### Output"
   ]
  },
  {
   "cell_type": "code",
   "execution_count": 4,
   "metadata": {
    "collapsed": false,
    "deletable": true,
    "editable": true
   },
   "outputs": [
    {
     "data": {
      "text/plain": [
       " 0.0748\n",
       " 0.0000\n",
       " 0.4638\n",
       " 0.0800\n",
       " 0.0000\n",
       "[torch.DoubleTensor of size 5]\n",
       "\n"
      ]
     },
     "execution_count": 4,
     "metadata": {},
     "output_type": "execute_result"
    }
   ],
   "source": [
    "require 'nn';\n",
    "relu = nn.ReLU()\n",
    "m = relu:forward(n)\n",
    "print(m)"
   ]
  },
  {
   "cell_type": "markdown",
   "metadata": {
    "deletable": true,
    "editable": true
   },
   "source": [
    "So simplicity, we start by setting the gradient of the output with respect to the input of the next layer $\\frac{\\partial O^{l+1}}{\\partial I^{l+1}}$ to be all ones. Next, we see that gradient of the output with respect to the input of this layer $\\frac{\\partial O^{l}}{\\partial I^{l}}$ is one where $n > 0$ and zero otherwise."
   ]
  },
  {
   "cell_type": "code",
   "execution_count": 8,
   "metadata": {
    "collapsed": false,
    "deletable": true,
    "editable": true
   },
   "outputs": [
    {
     "data": {
      "text/plain": [
       " 1\n",
       " 0\n",
       " 1\n",
       " 1\n",
       " 0\n",
       "[torch.DoubleTensor of size 5]\n",
       "\n",
       " 1\n",
       " 1\n",
       " 1\n",
       " 1\n",
       " 1\n",
       "[torch.DoubleTensor of size 5]\n",
       "\n"
      ]
     },
     "execution_count": 8,
     "metadata": {},
     "output_type": "execute_result"
    }
   ],
   "source": [
    "nextgrad=torch.ones(5)\n",
    "relu:backward(m, nextgrad)\n",
    "print(relu.gradInput)\n",
    "print(nextgrad)"
   ]
  }
 ],
 "metadata": {
  "kernelspec": {
   "display_name": "iTorch",
   "language": "lua",
   "name": "itorch"
  },
  "language_info": {
   "name": "lua",
   "version": "5.1"
  }
 },
 "nbformat": 4,
 "nbformat_minor": 2
}
