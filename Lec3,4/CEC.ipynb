{
 "cells": [
  {
   "cell_type": "markdown",
   "metadata": {
    "deletable": true,
    "editable": true
   },
   "source": [
    "# Cross-Entropy Criterion Layer\n",
    "In this notebook, we will look into the forward and the backward the the ```nn.CrossEntropyCriterion``` layer. We will also see how to compute the gradient of the loss respect to the output of the network $\\frac{\\partial L}{\\partial O}$."
   ]
  },
  {
   "cell_type": "markdown",
   "metadata": {
    "deletable": true,
    "editable": true
   },
   "source": [
    "#### Input\n",
    "We explicitly initialize the output values to be as bellow:"
   ]
  },
  {
   "cell_type": "code",
   "execution_count": 1,
   "metadata": {
    "collapsed": false,
    "deletable": true,
    "editable": true
   },
   "outputs": [
    {
     "data": {
      "text/plain": [
       " 3.2000\n",
       " 5.1000\n",
       "-1.7000\n",
       "[torch.DoubleTensor of size 3]\n",
       "\n"
      ]
     },
     "execution_count": 1,
     "metadata": {},
     "output_type": "execute_result"
    }
   ],
   "source": [
    "o = torch.Tensor({3.2, 5.1, -1.7}) \n",
    "print(o)"
   ]
  },
  {
   "cell_type": "markdown",
   "metadata": {
    "deletable": true,
    "editable": true
   },
   "source": [
    "#### Target\n",
    "Assume that the target should have been the $1^{st}$ class"
   ]
  },
  {
   "cell_type": "code",
   "execution_count": 2,
   "metadata": {
    "collapsed": false,
    "deletable": true,
    "editable": true
   },
   "outputs": [
    {
     "data": {
      "text/plain": [
       " 1\n",
       "[torch.DoubleTensor of size 1]\n",
       "\n"
      ]
     },
     "execution_count": 2,
     "metadata": {},
     "output_type": "execute_result"
    }
   ],
   "source": [
    "t = torch.Tensor({1})\n",
    "print(t)"
   ]
  },
  {
   "cell_type": "markdown",
   "metadata": {
    "deletable": true,
    "editable": true
   },
   "source": [
    "#### Calcuate the Loss\n",
    "We verify that the loss is equaly to the value that we manually calcuated in class."
   ]
  },
  {
   "cell_type": "code",
   "execution_count": 3,
   "metadata": {
    "collapsed": false,
    "deletable": true,
    "editable": true
   },
   "outputs": [
    {
     "data": {
      "text/plain": [
       "2.0403551528002\t\n"
      ]
     },
     "execution_count": 3,
     "metadata": {},
     "output_type": "execute_result"
    }
   ],
   "source": [
    "require 'nn';\n",
    "cec = nn.CrossEntropyCriterion()\n",
    "err = cec:forward(o, t)\n",
    "print(err)"
   ]
  },
  {
   "cell_type": "markdown",
   "metadata": {
    "deletable": true,
    "editable": true
   },
   "source": [
    "#### Gradient of Loss with respect to Output\n",
    "Now, let us look into the gradient of the loss respect to the output of the network $\\frac{\\partial L}{\\partial O}$. We know that loss is equal to:\n",
    "<img src=\"https://raw.githubusercontent.com/stencilman/CS763_Spring2017/master/Lec3%2C4/cec.png\" alt=\"Cross-Entropy Criterion\" style=\"width: 200px;\"/>\n",
    "As we saw in the class, the error is equal to $\\hat{o}-[1, 0, 0]^{T}$, where $\\hat{o}=SoftMax(o)$. So, let us know use torch to calcuate gradient of the loss respect to the output and then also do the same manually."
   ]
  },
  {
   "cell_type": "code",
   "execution_count": 4,
   "metadata": {
    "collapsed": false,
    "deletable": true,
    "editable": true
   },
   "outputs": [
    {
     "data": {
      "text/plain": [
       " 0.1300\n",
       " 0.8690\n",
       " 0.0010\n",
       "[torch.DoubleTensor of size 3]\n",
       "\n"
      ]
     },
     "execution_count": 4,
     "metadata": {},
     "output_type": "execute_result"
    }
   ],
   "source": [
    "ohat = nn.SoftMax():forward(o)\n",
    "print(ohat)"
   ]
  },
  {
   "cell_type": "code",
   "execution_count": 5,
   "metadata": {
    "collapsed": false,
    "deletable": true,
    "editable": true
   },
   "outputs": [
    {
     "data": {
      "text/plain": [
       "-0.8700\n",
       " 0.8690\n",
       " 0.0010\n",
       "[torch.DoubleTensor of size 3]\n",
       "\n"
      ]
     },
     "execution_count": 5,
     "metadata": {},
     "output_type": "execute_result"
    }
   ],
   "source": [
    "dl_do = cec:backward(o, t)\n",
    "print(dl_do)"
   ]
  },
  {
   "cell_type": "code",
   "execution_count": 6,
   "metadata": {
    "collapsed": false,
    "deletable": true,
    "editable": true
   },
   "outputs": [
    {
     "data": {
      "text/plain": [
       "-0.8700\n",
       " 0.8690\n",
       " 0.0010\n",
       "[torch.DoubleTensor of size 3]\n",
       "\n"
      ]
     },
     "execution_count": 6,
     "metadata": {},
     "output_type": "execute_result"
    }
   ],
   "source": [
    "target = torch.Tensor({1, 0, 0})\n",
    "dl_do_manual = ohat - target\n",
    "print(dl_do_manual)"
   ]
  },
  {
   "cell_type": "markdown",
   "metadata": {
    "deletable": true,
    "editable": true
   },
   "source": [
    "Note how ```dl_do``` and ```dl_do_manual``` are exactly the same."
   ]
  }
 ],
 "metadata": {
  "kernelspec": {
   "display_name": "iTorch",
   "language": "lua",
   "name": "itorch"
  },
  "language_info": {
   "name": "lua",
   "version": "5.1"
  }
 },
 "nbformat": 4,
 "nbformat_minor": 2
}
